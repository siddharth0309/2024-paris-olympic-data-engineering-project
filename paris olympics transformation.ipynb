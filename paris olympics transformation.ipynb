{
 "cells": [
  {
   "cell_type": "code",
   "execution_count": 0,
   "metadata": {
    "application/vnd.databricks.v1+cell": {
     "cellMetadata": {
      "byteLimit": 2048000,
      "rowLimit": 10000
     },
     "inputWidgets": {},
     "nuid": "6b9afc39-d384-46ba-b142-1cde2a1842ab",
     "showTitle": false,
     "tableResultSettingsMap": {},
     "title": ""
    }
   },
   "outputs": [],
   "source": [
    "from pyspark.sql.types import IntegerType, DateType\n",
    "from pyspark.sql.functions import regexp_replace, col, split, explode, col, trim, when, regexp_extract, lit\n"
   ]
  },
  {
   "cell_type": "code",
   "execution_count": 0,
   "metadata": {
    "application/vnd.databricks.v1+cell": {
     "cellMetadata": {
      "byteLimit": 2048000,
      "rowLimit": 10000
     },
     "inputWidgets": {},
     "nuid": "400c9abd-b6aa-48b0-9cd0-e0c141436066",
     "showTitle": false,
     "tableResultSettingsMap": {},
     "title": ""
    }
   },
   "outputs": [],
   "source": [
    "spark.conf.set(\n",
    "  \"fs.azure.account.key.parisolympicsdata3.dfs.core.windows.net\",\n",
    "  dbutils.secrets.get(scope=\"paris-olympics-secret-scope\", key=\"paris-olympics-storage-key\")\n",
    ")"
   ]
  },
  {
   "cell_type": "code",
   "execution_count": 0,
   "metadata": {
    "application/vnd.databricks.v1+cell": {
     "cellMetadata": {
      "byteLimit": 2048000,
      "rowLimit": 10000
     },
     "inputWidgets": {},
     "nuid": "83e98bd3-9326-4510-9cfa-bea7ffc69079",
     "showTitle": false,
     "tableResultSettingsMap": {},
     "title": ""
    }
   },
   "outputs": [],
   "source": [
    "# paths\n",
    "raw_data_path = \"abfss://paris-olympics@parisolympicsdata3.dfs.core.windows.net/raw data\"\n",
    "athletes_csv_path = f\"{raw_data_path}/Athletes.csv\"\n",
    "coaches_csv_path = f\"{raw_data_path}/Coaches.csv\"\n",
    "events_csv_path = f\"{raw_data_path}/Events.csv\"\n",
    "medallists_csv_path = f\"{raw_data_path}/Medallists.csv\"\n",
    "teams_csv_path = f\"{raw_data_path}/Teams.csv\"\n",
    "\n",
    "processed_data_path = \"abfss://paris-olympics@parisolympicsdata3.dfs.core.windows.net/processed_data\""
   ]
  },
  {
   "cell_type": "markdown",
   "metadata": {
    "application/vnd.databricks.v1+cell": {
     "cellMetadata": {
      "byteLimit": 2048000,
      "rowLimit": 10000
     },
     "inputWidgets": {},
     "nuid": "7a7bbd4e-925f-4279-a8da-85e6ffa8e7fb",
     "showTitle": false,
     "tableResultSettingsMap": {},
     "title": ""
    }
   },
   "source": [
    "### Reading the files"
   ]
  },
  {
   "cell_type": "code",
   "execution_count": 0,
   "metadata": {
    "application/vnd.databricks.v1+cell": {
     "cellMetadata": {
      "byteLimit": 2048000,
      "rowLimit": 10000
     },
     "inputWidgets": {},
     "nuid": "1dec178f-b67a-4144-a52d-aa0ee5d7758b",
     "showTitle": false,
     "tableResultSettingsMap": {},
     "title": ""
    }
   },
   "outputs": [],
   "source": [
    "athletes_df = spark.read \\\n",
    "    .option(\"header\", True) \\\n",
    "    .option(\"quote\", \"\\\"\") \\\n",
    "    .option(\"escape\", \"\\\"\") \\\n",
    "    .csv(athletes_csv_path)"
   ]
  },
  {
   "cell_type": "code",
   "execution_count": 0,
   "metadata": {
    "application/vnd.databricks.v1+cell": {
     "cellMetadata": {
      "byteLimit": 2048000,
      "rowLimit": 10000
     },
     "inputWidgets": {},
     "nuid": "21223c70-41e7-4bad-815b-eaf80ef48110",
     "showTitle": false,
     "tableResultSettingsMap": {},
     "title": ""
    }
   },
   "outputs": [],
   "source": [
    "athletes_df = spark.read \\\n",
    "    .option(\"header\", True) \\\n",
    "    .option(\"quote\", \"\\\"\") \\\n",
    "    .option(\"escape\", \"\\\"\") \\\n",
    "    .csv(athletes_csv_path)\n",
    "\n",
    "coaches_df = spark.read.csv(coaches_csv_path, header=True)\n",
    "\n",
    "events_df = spark.read.csv(events_csv_path, header=True)\n",
    "\n",
    "medallists_df = spark.read.csv(medallists_csv_path, header=True)\n",
    "\n",
    "teams_df = spark.read.csv(teams_csv_path, header=True)"
   ]
  },
  {
   "cell_type": "code",
   "execution_count": 0,
   "metadata": {
    "application/vnd.databricks.v1+cell": {
     "cellMetadata": {
      "byteLimit": 2048000,
      "rowLimit": 10000
     },
     "inputWidgets": {},
     "nuid": "5e8834ef-262a-4e6b-a153-8cf61aea11a4",
     "showTitle": false,
     "tableResultSettingsMap": {},
     "title": ""
    }
   },
   "outputs": [],
   "source": [
    "display(athletes_df.limit(5))\n",
    "display(coaches_df.limit(5))\n",
    "display(events_df.limit(5))\n",
    "display(medallists_df.limit(5))\n",
    "display(teams_df.limit(5))"
   ]
  },
  {
   "cell_type": "code",
   "execution_count": 0,
   "metadata": {
    "application/vnd.databricks.v1+cell": {
     "cellMetadata": {
      "byteLimit": 2048000,
      "rowLimit": 10000
     },
     "inputWidgets": {},
     "nuid": "7b8a17be-08bf-4e8d-a2b3-54881cc70ba8",
     "showTitle": false,
     "tableResultSettingsMap": {},
     "title": ""
    }
   },
   "outputs": [],
   "source": [
    "athletes_df = athletes_df \\\n",
    "    .withColumn(\"code\", col(\"code\").cast(IntegerType())) \\\n",
    "    .withColumn(\"height\", col(\"height\").cast(IntegerType())) \\\n",
    "    .withColumn(\"weight\", col(\"weight\").cast(IntegerType())) \\\n",
    "    .withColumn(\"birth_date\", col(\"birth_date\").cast(DateType()))"
   ]
  },
  {
   "cell_type": "code",
   "execution_count": 0,
   "metadata": {
    "application/vnd.databricks.v1+cell": {
     "cellMetadata": {
      "byteLimit": 2048000,
      "rowLimit": 10000
     },
     "inputWidgets": {},
     "nuid": "2f9b6059-a4a7-4d9f-9f33-f0b58dead50f",
     "showTitle": false,
     "tableResultSettingsMap": {},
     "title": ""
    }
   },
   "outputs": [],
   "source": [
    "coaches_df = coaches_df \\\n",
    "    .withColumn(\"code\", col(\"code\").cast(IntegerType())) \\\n",
    "    .withColumn(\"birth_date\", col(\"birth_date\").cast(DateType()))"
   ]
  },
  {
   "cell_type": "code",
   "execution_count": 0,
   "metadata": {
    "application/vnd.databricks.v1+cell": {
     "cellMetadata": {
      "byteLimit": 2048000,
      "rowLimit": 10000
     },
     "inputWidgets": {},
     "nuid": "e1d45bd7-e15f-4fb5-a51d-8a8bc3476d81",
     "showTitle": false,
     "tableResultSettingsMap": {},
     "title": ""
    }
   },
   "outputs": [],
   "source": [
    "medallists_df = medallists_df \\\n",
    "    .withColumn(\"medal_code\", col(\"medal_code\").cast(IntegerType())) \\\n",
    "    .withColumn(\"code_athlete\", col(\"code_athlete\").cast(IntegerType())) \\\n",
    "    .withColumn(\"birth_date\", col(\"birth_date\").cast(DateType())) \\\n",
    "    .withColumn(\"medal_date\", col(\"medal_date\").cast(DateType()))"
   ]
  },
  {
   "cell_type": "code",
   "execution_count": 0,
   "metadata": {
    "application/vnd.databricks.v1+cell": {
     "cellMetadata": {
      "byteLimit": 2048000,
      "rowLimit": 10000
     },
     "inputWidgets": {},
     "nuid": "bc4459d7-0b1c-4347-8d5f-70701a5a9fa8",
     "showTitle": false,
     "tableResultSettingsMap": {},
     "title": ""
    }
   },
   "outputs": [],
   "source": []
  },
  {
   "cell_type": "markdown",
   "metadata": {
    "application/vnd.databricks.v1+cell": {
     "cellMetadata": {
      "byteLimit": 2048000,
      "rowLimit": 10000
     },
     "inputWidgets": {},
     "nuid": "3a5d8e38-68e6-45bd-aaf6-d8c387db6943",
     "showTitle": false,
     "tableResultSettingsMap": {},
     "title": ""
    }
   },
   "source": [
    "### Transforming the data"
   ]
  },
  {
   "cell_type": "code",
   "execution_count": 0,
   "metadata": {
    "application/vnd.databricks.v1+cell": {
     "cellMetadata": {
      "byteLimit": 2048000,
      "rowLimit": 10000
     },
     "inputWidgets": {},
     "nuid": "92a06005-4b6c-43e8-9c8c-1528a8b059b9",
     "showTitle": false,
     "tableResultSettingsMap": {},
     "title": ""
    }
   },
   "outputs": [],
   "source": [
    "# Clean the 'disciplines' column by removing brackets and single quotes\n",
    "athletes_df_exploded = athletes_df.withColumn(\n",
    "    \"disciplines\", regexp_replace(\"disciplines\", r\"[\\[\\]']\", \"\")\n",
    ").withColumn(\n",
    "    # Clean the 'events' column by removing brackets, single quotes, and double quotes\n",
    "    \"events\", regexp_replace(\"events\", r\"\"\"[\\[\\]'\"]\"\"\", \"\")\n",
    ").withColumn(\n",
    "    # Split the cleaned 'disciplines' string by commas and explode into multiple rows\n",
    "    \"disciplines\", explode(split(col(\"disciplines\"), \",\\\\s*\"))\n",
    ").withColumn(\n",
    "    # Trim leading/trailing whitespace from each discipline\n",
    "    \"disciplines\", trim(col(\"disciplines\"))\n",
    ").withColumn(\n",
    "    # Split the cleaned 'events' string by commas and explode into multiple rows\n",
    "    \"events\", explode(split(col(\"events\"), \",\\\\s*\"))\n",
    ").withColumn(\n",
    "    # Trim leading/trailing whitespace from each event\n",
    "    \"events\", trim(col(\"events\"))\n",
    ")\n",
    "\n",
    "# Display the resulting DataFrame with exploded and cleaned disciplines and events\n",
    "athletes_df_exploded.display()\n"
   ]
  },
  {
   "cell_type": "code",
   "execution_count": 0,
   "metadata": {
    "application/vnd.databricks.v1+cell": {
     "cellMetadata": {
      "byteLimit": 2048000,
      "rowLimit": 10000
     },
     "inputWidgets": {},
     "nuid": "60562f41-8c05-4bff-98ab-e85c95bd7b9c",
     "showTitle": false,
     "tableResultSettingsMap": {},
     "title": ""
    }
   },
   "outputs": [],
   "source": []
  },
  {
   "cell_type": "code",
   "execution_count": 0,
   "metadata": {
    "application/vnd.databricks.v1+cell": {
     "cellMetadata": {
      "byteLimit": 2048000,
      "rowLimit": 10000
     },
     "inputWidgets": {},
     "nuid": "d86cc0c5-cdae-4fed-9252-8b6f28b0b16d",
     "showTitle": false,
     "tableResultSettingsMap": {},
     "title": ""
    }
   },
   "outputs": [],
   "source": []
  },
  {
   "cell_type": "code",
   "execution_count": 0,
   "metadata": {
    "application/vnd.databricks.v1+cell": {
     "cellMetadata": {
      "byteLimit": 2048000,
      "rowLimit": 10000
     },
     "inputWidgets": {},
     "nuid": "eacf0527-ee91-47d4-a180-f9631990a2a5",
     "showTitle": false,
     "tableResultSettingsMap": {},
     "title": ""
    }
   },
   "outputs": [],
   "source": [
    "# Clean and transform the 'athletes' column in the teams_df DataFrame\n",
    "teams_df_final = teams_df.withColumn(\n",
    "    # Remove square brackets and single quotes from the 'athletes' string\n",
    "    \"athletes\", regexp_replace(col(\"athletes\"), r\"[\\[\\]']\", \"\")\n",
    ").withColumn(\n",
    "    # Split the cleaned string into individual athlete names and explode into separate rows\n",
    "    \"athletes\", explode(split(col(\"athletes\"), \",\\\\s*\"))\n",
    ").withColumn(\n",
    "    # Trim any leading/trailing whitespace from each athlete name\n",
    "    \"athletes\", trim(col(\"athletes\"))\n",
    ")\n",
    "\n",
    "# Display the final transformed DataFrame\n",
    "teams_df_final.display()"
   ]
  },
  {
   "cell_type": "code",
   "execution_count": 0,
   "metadata": {
    "application/vnd.databricks.v1+cell": {
     "cellMetadata": {
      "byteLimit": 2048000,
      "rowLimit": 10000
     },
     "inputWidgets": {},
     "nuid": "99858833-4031-4665-86d8-8baa342ed23f",
     "showTitle": false,
     "tableResultSettingsMap": {},
     "title": ""
    }
   },
   "outputs": [],
   "source": []
  },
  {
   "cell_type": "code",
   "execution_count": 0,
   "metadata": {
    "application/vnd.databricks.v1+cell": {
     "cellMetadata": {
      "byteLimit": 2048000,
      "rowLimit": 10000
     },
     "inputWidgets": {},
     "nuid": "2c25e730-6419-4cfc-abe9-48d65a1828a8",
     "showTitle": false,
     "tableResultSettingsMap": {},
     "title": ""
    }
   },
   "outputs": [],
   "source": [
    "athletes_df = athletes_df.withColumnRenamed(\"name\", \"athlete_name\") \\\n",
    "                         .withColumnRenamed(\"disciplines\", \"athlete_discipline\") \\\n",
    "                         .withColumnRenamed(\"country_code\", \"athlete_country_code\") \\\n",
    "                         .withColumnRenamed(\"birth_date\", \"athlete_birth_date\")\n",
    "\n",
    "medallists_df = medallists_df.withColumnRenamed(\"discipline\", \"medallist_discipline\") \\\n",
    "                             .withColumnRenamed(\"country_long\", \"medallist_country_long\") "
   ]
  },
  {
   "cell_type": "code",
   "execution_count": 0,
   "metadata": {
    "application/vnd.databricks.v1+cell": {
     "cellMetadata": {
      "byteLimit": 2048000,
      "rowLimit": 10000
     },
     "inputWidgets": {},
     "nuid": "43c2a7e8-6f2a-4fbc-8a32-62240718f199",
     "showTitle": false,
     "tableResultSettingsMap": {},
     "title": ""
    }
   },
   "outputs": [],
   "source": [
    "athlete_medallist_df = athletes_df.join(\n",
    "    medallists_df,\n",
    "    (athletes_df[\"code\"] == medallists_df[\"code_athlete\"]) &\n",
    "    (athletes_df[\"athlete_name\"] == medallists_df[\"name\"]) &\n",
    "    (athletes_df[\"country_long\"] == medallists_df[\"medallist_country_long\"]) ,\n",
    "    \"left\"\n",
    ")\n"
   ]
  },
  {
   "cell_type": "code",
   "execution_count": 0,
   "metadata": {
    "application/vnd.databricks.v1+cell": {
     "cellMetadata": {
      "byteLimit": 2048000,
      "rowLimit": 10000
     },
     "inputWidgets": {},
     "nuid": "e47b3cde-7872-4b4c-abe8-5fc85f97a103",
     "showTitle": false,
     "tableResultSettingsMap": {},
     "title": ""
    }
   },
   "outputs": [],
   "source": [
    "athlete_medallist_df.filter(athlete_medallist_df.is_medallist==\"True\").count()"
   ]
  },
  {
   "cell_type": "code",
   "execution_count": 0,
   "metadata": {
    "application/vnd.databricks.v1+cell": {
     "cellMetadata": {
      "byteLimit": 2048000,
      "rowLimit": 10000
     },
     "inputWidgets": {},
     "nuid": "78a3b12c-8277-4375-9dff-a1656af47f73",
     "showTitle": false,
     "tableResultSettingsMap": {},
     "title": ""
    }
   },
   "outputs": [],
   "source": [
    "athlete_medallist_df = (\n",
    "    athlete_medallist_df\n",
    "        .filter('is_medallist = \"True\"')\n",
    "        .select(\n",
    "            \"athlete_name\",\n",
    "            \"country_long\",\n",
    "            \"athlete_birth_date\",\n",
    "            \"athlete_discipline\",\n",
    "            \"medallist_discipline\",\n",
    "            col(\"events\").alias(\"athlete_event\"),\n",
    "            col(\"event\").alias(\"medallist_event\"),\n",
    "            \"medal_type\",\n",
    "            \"medal_code\",\n",
    "            \"coach\",\n",
    "            col(\"country_code\").alias(\"athlete_country_code\")\n",
    "        )\n",
    ")\n",
    "\n",
    "display(athlete_medallist_df)\n"
   ]
  },
  {
   "cell_type": "code",
   "execution_count": 0,
   "metadata": {
    "application/vnd.databricks.v1+cell": {
     "cellMetadata": {
      "byteLimit": 2048000,
      "rowLimit": 10000
     },
     "inputWidgets": {},
     "nuid": "70cb4c15-e47f-4786-b4fa-41f9684f3a75",
     "showTitle": false,
     "tableResultSettingsMap": {},
     "title": ""
    }
   },
   "outputs": [],
   "source": [
    "# Split the 'coach' column into multiple entries using <br> or <p> as delimiters and explode into separate rows\n",
    "athlete_medallist_df = athlete_medallist_df.withColumn(\"coach\", explode(split(col(\"coach\"), \"<br>|<p>\")))\n",
    "\n",
    "# Trim any leading or trailing whitespace from each coach name\n",
    "athlete_medallist_df = athlete_medallist_df.withColumn(\"coach\", trim(col(\"coach\")))\n",
    "\n",
    "# Display the resulting DataFrame\n",
    "display(athlete_medallist_df)"
   ]
  },
  {
   "cell_type": "code",
   "execution_count": 0,
   "metadata": {
    "application/vnd.databricks.v1+cell": {
     "cellMetadata": {
      "byteLimit": 2048000,
      "rowLimit": 10000
     },
     "inputWidgets": {},
     "nuid": "3f90d0c5-ba49-4efe-a855-1eeb5f81732f",
     "showTitle": false,
     "tableResultSettingsMap": {},
     "title": ""
    }
   },
   "outputs": [],
   "source": [
    "# Create a new column 'coach_country_code' based on patterns found in the 'coach' column\n",
    "athlete_medallist_coach = athlete_medallist_df.withColumn(\n",
    "    \"coach_country_code\",\n",
    "    \n",
    "    # First condition: if a 3-letter country code is found in parentheses (e.g., \"(USA)\"), extract and use it\n",
    "    when(\n",
    "        regexp_extract(col(\"coach\"), r\"\\((\\w{3})\\)\", 1) != \"\",\n",
    "        regexp_extract(col(\"coach\"), r\"\\((\\w{3})\\)\", 1)\n",
    "    \n",
    "    # Second condition: if the word 'national' (case-insensitive) is present in the coach name,\n",
    "    # assume the coach shares the same country as the athlete\n",
    "    ).when(\n",
    "        col(\"coach\").rlike(\"(?i)national\"),\n",
    "        col(\"athlete_country_code\")\n",
    "    \n",
    "    # If neither condition is met, assign None\n",
    "    ).otherwise(lit(None))\n",
    ")\n",
    "\n",
    "# Display the resulting DataFrame with the new 'coach_country_code' column\n",
    "athlete_medallist_coach.display()"
   ]
  },
  {
   "cell_type": "code",
   "execution_count": 0,
   "metadata": {
    "application/vnd.databricks.v1+cell": {
     "cellMetadata": {
      "byteLimit": 2048000,
      "rowLimit": 10000
     },
     "inputWidgets": {},
     "nuid": "c940c8b6-def7-417e-8ae6-56565c0768d3",
     "showTitle": false,
     "tableResultSettingsMap": {},
     "title": ""
    }
   },
   "outputs": [],
   "source": [
    "# Add a new column 'coach_national_international' to classify the coach as National, International, or None\n",
    "athlete_medallist_coach_df = athlete_medallist_coach.withColumn(\n",
    "    \"coach_national_international\",\n",
    "    \n",
    "    # If the coach's country code matches the athlete's, label as 'National'\n",
    "    when(col(\"athlete_country_code\") == col(\"coach_country_code\"), \"National\")\n",
    "    \n",
    "    # If the coach's country code is missing, assign None\n",
    "    .when(col(\"coach_country_code\").isNull(), None)\n",
    "    \n",
    "    # Otherwise, label as 'International'\n",
    "    .otherwise(\"International\")\n",
    ")\n",
    "\n",
    "# Display the resulting DataFrame with the new classification\n",
    "athlete_medallist_coach_df.display()"
   ]
  },
  {
   "cell_type": "code",
   "execution_count": 0,
   "metadata": {
    "application/vnd.databricks.v1+cell": {
     "cellMetadata": {
      "byteLimit": 2048000,
      "rowLimit": 10000
     },
     "inputWidgets": {},
     "nuid": "b9af5e41-a66e-43da-8a05-29c6e1ac0678",
     "showTitle": false,
     "tableResultSettingsMap": {},
     "title": ""
    }
   },
   "outputs": [],
   "source": []
  },
  {
   "cell_type": "markdown",
   "metadata": {
    "application/vnd.databricks.v1+cell": {
     "cellMetadata": {
      "byteLimit": 2048000,
      "rowLimit": 10000
     },
     "inputWidgets": {},
     "nuid": "91e99d20-1f5b-465c-ae74-5e5b367ce696",
     "showTitle": false,
     "tableResultSettingsMap": {},
     "title": ""
    }
   },
   "source": [
    "### Writing Processed DataFrames to Parquet Format with Overwrite Mode for Multiple DataSets"
   ]
  },
  {
   "cell_type": "code",
   "execution_count": 0,
   "metadata": {
    "application/vnd.databricks.v1+cell": {
     "cellMetadata": {
      "byteLimit": 2048000,
      "rowLimit": 10000
     },
     "inputWidgets": {},
     "nuid": "30c02a56-00f9-44fc-869c-f9f1a1ac1c1c",
     "showTitle": false,
     "tableResultSettingsMap": {},
     "title": ""
    }
   },
   "outputs": [],
   "source": [
    "athletes_df.write \\\n",
    "    .format(\"parquet\") \\\n",
    "    .mode(\"overwrite\") \\\n",
    "    .option(\"overwriteSchema\", \"true\") \\\n",
    "    .save(f\"{processed_data_path}/athletes\")\n",
    "\n",
    "coaches_df.write \\\n",
    "    .format(\"parquet\") \\\n",
    "    .mode(\"overwrite\") \\\n",
    "    .save(f\"{processed_data_path}/coaches\")\n",
    "\n",
    "events_df.write \\\n",
    "    .format(\"parquet\") \\\n",
    "    .mode(\"overwrite\") \\\n",
    "    .save(f\"{processed_data_path}/events\")\n",
    "\n",
    "medallists_df.write \\\n",
    "    .format(\"parquet\") \\\n",
    "    .mode(\"overwrite\") \\\n",
    "    .save(f\"{processed_data_path}/medallists\")\n",
    "\n",
    "teams_df.write \\\n",
    "    .format(\"parquet\") \\\n",
    "    .mode(\"overwrite\") \\\n",
    "    .save(f\"{processed_data_path}/teams\")\n",
    "\n",
    "athlete_medallist_coach_df.write \\\n",
    "    .format(\"parquet\") \\\n",
    "    .mode(\"overwrite\") \\\n",
    "    .save(f\"{processed_data_path}/athlete_medallist_coach\")\n"
   ]
  },
  {
   "cell_type": "code",
   "execution_count": 0,
   "metadata": {
    "application/vnd.databricks.v1+cell": {
     "cellMetadata": {
      "byteLimit": 2048000,
      "rowLimit": 10000
     },
     "inputWidgets": {},
     "nuid": "53da5bfd-a5f7-439c-9a7c-92454f3b9dfb",
     "showTitle": false,
     "tableResultSettingsMap": {},
     "title": ""
    }
   },
   "outputs": [],
   "source": []
  }
 ],
 "metadata": {
  "application/vnd.databricks.v1+notebook": {
   "computePreferences": null,
   "dashboards": [],
   "environmentMetadata": {
    "base_environment": "",
    "environment_version": "2"
   },
   "inputWidgetPreferences": null,
   "language": "python",
   "notebookMetadata": {
    "pythonIndentUnit": 4
   },
   "notebookName": "paris olympics transformation",
   "widgets": {}
  },
  "language_info": {
   "name": "python"
  }
 },
 "nbformat": 4,
 "nbformat_minor": 0
}
