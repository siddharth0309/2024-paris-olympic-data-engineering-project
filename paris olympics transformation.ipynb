{
 "cells": [
  {
   "cell_type": "code",
   "execution_count": 0,
   "metadata": {
    "application/vnd.databricks.v1+cell": {
     "cellMetadata": {
      "byteLimit": 2048000,
      "rowLimit": 10000
     },
     "inputWidgets": {},
     "nuid": "4ce9fe35-bc44-4ff7-aeaa-a52f016aaa55",
     "showTitle": false,
     "tableResultSettingsMap": {},
     "title": ""
    }
   },
   "outputs": [],
   "source": [
    "from pyspark.sql.types import IntegerType, DateType\n",
    "from pyspark.sql.functions import regexp_replace, col, split, explode, col, trim, when, regexp_extract, lit"
   ]
  },
  {
   "cell_type": "code",
   "execution_count": 0,
   "metadata": {
    "application/vnd.databricks.v1+cell": {
     "cellMetadata": {
      "byteLimit": 2048000,
      "rowLimit": 10000
     },
     "inputWidgets": {},
     "nuid": "7c5ad119-66a9-48fa-9217-feda14e3cc0f",
     "showTitle": false,
     "tableResultSettingsMap": {},
     "title": ""
    }
   },
   "outputs": [],
   "source": [
    "spark.conf.set(\n",
    "  \"fs.azure.account.key.parisolympicsdata3.dfs.core.windows.net\",\n",
    "  dbutils.secrets.get(scope=\"paris-olympics-secret-scope\", key=\"paris-olympics-storage-key\")\n",
    ")"
   ]
  },
  {
   "cell_type": "code",
   "execution_count": 0,
   "metadata": {
    "application/vnd.databricks.v1+cell": {
     "cellMetadata": {
      "byteLimit": 2048000,
      "rowLimit": 10000
     },
     "inputWidgets": {},
     "nuid": "4c60a84a-3067-4733-bcba-d189d460bbaa",
     "showTitle": false,
     "tableResultSettingsMap": {},
     "title": ""
    }
   },
   "outputs": [],
   "source": [
    "# paths\n",
    "raw_data_path = \"abfss://paris-olympics@parisolympicsdata3.dfs.core.windows.net/raw data\"\n",
    "athletes_csv_path = f\"{raw_data_path}/Athletes.csv\"\n",
    "coaches_csv_path = f\"{raw_data_path}/Coaches.csv\"\n",
    "events_csv_path = f\"{raw_data_path}/Events.csv\"\n",
    "medallists_csv_path = f\"{raw_data_path}/Medallists.csv\"\n",
    "teams_csv_path = f\"{raw_data_path}/Teams.csv\"\n",
    "\n",
    "processed_data_path = \"abfss://paris-olympics@parisolympicsdata3.dfs.core.windows.net/processed_data\""
   ]
  },
  {
   "cell_type": "markdown",
   "metadata": {
    "application/vnd.databricks.v1+cell": {
     "cellMetadata": {
      "byteLimit": 2048000,
      "rowLimit": 10000
     },
     "inputWidgets": {},
     "nuid": "eb473f56-a058-4674-ac37-d3e895341729",
     "showTitle": false,
     "tableResultSettingsMap": {},
     "title": ""
    }
   },
   "source": [
    "### Reading the files"
   ]
  },
  {
   "cell_type": "code",
   "execution_count": 0,
   "metadata": {
    "application/vnd.databricks.v1+cell": {
     "cellMetadata": {
      "byteLimit": 2048000,
      "rowLimit": 10000
     },
     "inputWidgets": {},
     "nuid": "c4996c17-ddd2-48a8-be91-77733e7315f5",
     "showTitle": false,
     "tableResultSettingsMap": {},
     "title": ""
    }
   },
   "outputs": [],
   "source": [
    "athletes_df = spark.read \\\n",
    "    .option(\"header\", True) \\\n",
    "    .option(\"quote\", \"\\\"\") \\\n",
    "    .option(\"escape\", \"\\\"\") \\\n",
    "    .csv(athletes_csv_path)\n",
    "\n",
    "coaches_df = spark.read.csv(coaches_csv_path, header=True)\n",
    "\n",
    "events_df = spark.read.csv(events_csv_path, header=True)\n",
    "\n",
    "medallists_df = spark.read.csv(medallists_csv_path, header=True)\n",
    "\n",
    "teams_df = spark.read.csv(teams_csv_path, header=True)"
   ]
  },
  {
   "cell_type": "code",
   "execution_count": 0,
   "metadata": {
    "application/vnd.databricks.v1+cell": {
     "cellMetadata": {
      "byteLimit": 2048000,
      "rowLimit": 10000
     },
     "inputWidgets": {},
     "nuid": "cb83b197-211c-48c3-9dab-e6274a97c7a2",
     "showTitle": false,
     "tableResultSettingsMap": {},
     "title": ""
    }
   },
   "outputs": [],
   "source": [
    "display(athletes_df.limit(5))\n",
    "display(coaches_df.limit(5))\n",
    "display(events_df.limit(5))\n",
    "display(medallists_df.limit(5))\n",
    "display(teams_df.limit(5))"
   ]
  },
  {
   "cell_type": "code",
   "execution_count": 0,
   "metadata": {
    "application/vnd.databricks.v1+cell": {
     "cellMetadata": {
      "byteLimit": 2048000,
      "rowLimit": 10000
     },
     "inputWidgets": {},
     "nuid": "12e594c2-c883-43ea-b522-8fe128c7dff1",
     "showTitle": false,
     "tableResultSettingsMap": {},
     "title": ""
    }
   },
   "outputs": [],
   "source": [
    "athletes_df = athletes_df \\\n",
    "    .withColumn(\"code\", col(\"code\").cast(IntegerType())) \\\n",
    "    .withColumn(\"height\", col(\"height\").cast(IntegerType())) \\\n",
    "    .withColumn(\"weight\", col(\"weight\").cast(IntegerType())) \\\n",
    "    .withColumn(\"birth_date\", col(\"birth_date\").cast(DateType()))"
   ]
  },
  {
   "cell_type": "code",
   "execution_count": 0,
   "metadata": {
    "application/vnd.databricks.v1+cell": {
     "cellMetadata": {
      "byteLimit": 2048000,
      "rowLimit": 10000
     },
     "inputWidgets": {},
     "nuid": "4a0be78f-9223-4114-b198-8cdb0512fd2f",
     "showTitle": false,
     "tableResultSettingsMap": {},
     "title": ""
    }
   },
   "outputs": [],
   "source": [
    "coaches_df = coaches_df \\\n",
    "    .withColumn(\"code\", col(\"code\").cast(IntegerType())) \\\n",
    "    .withColumn(\"birth_date\", col(\"birth_date\").cast(DateType()))"
   ]
  },
  {
   "cell_type": "code",
   "execution_count": 0,
   "metadata": {
    "application/vnd.databricks.v1+cell": {
     "cellMetadata": {
      "byteLimit": 2048000,
      "rowLimit": 10000
     },
     "inputWidgets": {},
     "nuid": "7b100a2e-2393-41a6-8e90-65058b25aa43",
     "showTitle": false,
     "tableResultSettingsMap": {},
     "title": ""
    }
   },
   "outputs": [],
   "source": [
    "medallists_df = medallists_df \\\n",
    "    .withColumn(\"medal_code\", col(\"medal_code\").cast(IntegerType())) \\\n",
    "    .withColumn(\"code_athlete\", col(\"code_athlete\").cast(IntegerType())) \\\n",
    "    .withColumn(\"birth_date\", col(\"birth_date\").cast(DateType())) \\\n",
    "    .withColumn(\"medal_date\", col(\"medal_date\").cast(DateType()))"
   ]
  },
  {
   "cell_type": "code",
   "execution_count": 0,
   "metadata": {
    "application/vnd.databricks.v1+cell": {
     "cellMetadata": {
      "byteLimit": 2048000,
      "rowLimit": 10000
     },
     "inputWidgets": {},
     "nuid": "2a48e9b6-f775-4916-bbf1-8c636f53977b",
     "showTitle": false,
     "tableResultSettingsMap": {},
     "title": ""
    }
   },
   "outputs": [],
   "source": []
  },
  {
   "cell_type": "markdown",
   "metadata": {
    "application/vnd.databricks.v1+cell": {
     "cellMetadata": {
      "byteLimit": 2048000,
      "rowLimit": 10000
     },
     "inputWidgets": {},
     "nuid": "160b2e69-dac0-40cc-9c3f-1bf7730addf4",
     "showTitle": false,
     "tableResultSettingsMap": {},
     "title": ""
    }
   },
   "source": [
    "### Transforming the data"
   ]
  },
  {
   "cell_type": "code",
   "execution_count": 0,
   "metadata": {
    "application/vnd.databricks.v1+cell": {
     "cellMetadata": {
      "byteLimit": 2048000,
      "rowLimit": 10000
     },
     "inputWidgets": {},
     "nuid": "55329196-7553-4599-9cc1-bf81b5b3a004",
     "showTitle": false,
     "tableResultSettingsMap": {},
     "title": ""
    }
   },
   "outputs": [],
   "source": [
    "# Clean the 'disciplines' column by removing brackets and single quotes\n",
    "athletes_df_exploded = athletes_df.withColumn(\n",
    "    \"disciplines\", regexp_replace(\"disciplines\", r\"[\\[\\]']\", \"\")\n",
    ").withColumn(\n",
    "    # Clean the 'events' column by removing brackets, single quotes, and double quotes\n",
    "    \"events\", regexp_replace(\"events\", r\"\"\"[\\[\\]'\"]\"\"\", \"\")\n",
    ").withColumn(\n",
    "    # Split the cleaned 'disciplines' string by commas and explode into multiple rows\n",
    "    \"disciplines\", explode(split(col(\"disciplines\"), \",\\\\s*\"))\n",
    ").withColumn(\n",
    "    # Trim leading/trailing whitespace from each discipline\n",
    "    \"disciplines\", trim(col(\"disciplines\"))\n",
    ").withColumn(\n",
    "    # Split the cleaned 'events' string by commas and explode into multiple rows\n",
    "    \"events\", explode(split(col(\"events\"), \",\\\\s*\"))\n",
    ").withColumn(\n",
    "    # Trim leading/trailing whitespace from each event\n",
    "    \"events\", trim(col(\"events\"))\n",
    ")\n",
    "\n",
    "# Display the resulting DataFrame with exploded and cleaned disciplines and events\n",
    "athletes_df_exploded.display()\n"
   ]
  },
  {
   "cell_type": "code",
   "execution_count": 0,
   "metadata": {
    "application/vnd.databricks.v1+cell": {
     "cellMetadata": {
      "byteLimit": 2048000,
      "rowLimit": 10000
     },
     "inputWidgets": {},
     "nuid": "baef597d-6af2-4d07-884f-74f3be764189",
     "showTitle": false,
     "tableResultSettingsMap": {},
     "title": ""
    }
   },
   "outputs": [],
   "source": []
  },
  {
   "cell_type": "code",
   "execution_count": 0,
   "metadata": {
    "application/vnd.databricks.v1+cell": {
     "cellMetadata": {
      "byteLimit": 2048000,
      "rowLimit": 10000
     },
     "inputWidgets": {},
     "nuid": "35028b36-f185-449f-afe4-56eead11bc6d",
     "showTitle": false,
     "tableResultSettingsMap": {},
     "title": ""
    }
   },
   "outputs": [],
   "source": [
    "# Clean and transform the 'athletes' column in the teams_df DataFrame\n",
    "teams_df_final = teams_df.withColumn(\n",
    "    # Remove square brackets and single quotes from the 'athletes' string\n",
    "    \"athletes\", regexp_replace(col(\"athletes\"), r\"[\\[\\]']\", \"\")\n",
    ").withColumn(\n",
    "    # Split the cleaned string into individual athlete names and explode into separate rows\n",
    "    \"athletes\", explode(split(col(\"athletes\"), \",\\\\s*\"))\n",
    ").withColumn(\n",
    "    # Trim any leading/trailing whitespace from each athlete name\n",
    "    \"athletes\", trim(col(\"athletes\"))\n",
    ")\n",
    "\n",
    "# Display the final transformed DataFrame\n",
    "teams_df_final.display()"
   ]
  },
  {
   "cell_type": "code",
   "execution_count": 0,
   "metadata": {
    "application/vnd.databricks.v1+cell": {
     "cellMetadata": {
      "byteLimit": 2048000,
      "rowLimit": 10000
     },
     "inputWidgets": {},
     "nuid": "ed29da5f-81fb-4424-9e0b-0f1308075619",
     "showTitle": false,
     "tableResultSettingsMap": {},
     "title": ""
    }
   },
   "outputs": [],
   "source": []
  },
  {
   "cell_type": "code",
   "execution_count": 0,
   "metadata": {
    "application/vnd.databricks.v1+cell": {
     "cellMetadata": {
      "byteLimit": 2048000,
      "rowLimit": 10000
     },
     "inputWidgets": {},
     "nuid": "fe8643b6-4f66-49e8-9eeb-80fb792f4498",
     "showTitle": false,
     "tableResultSettingsMap": {},
     "title": ""
    }
   },
   "outputs": [],
   "source": [
    "athletes_df = athletes_df.withColumnRenamed(\"name\", \"athlete_name\") \\\n",
    "                         .withColumnRenamed(\"disciplines\", \"athlete_discipline\") \\\n",
    "                         .withColumnRenamed(\"country_code\", \"athlete_country_code\") \\\n",
    "                         .withColumnRenamed(\"birth_date\", \"athlete_birth_date\")\n",
    "\n",
    "medallists_df = medallists_df.withColumnRenamed(\"discipline\", \"medallist_discipline\") \\\n",
    "                             .withColumnRenamed(\"country_long\", \"medallist_country_long\") "
   ]
  },
  {
   "cell_type": "code",
   "execution_count": 0,
   "metadata": {
    "application/vnd.databricks.v1+cell": {
     "cellMetadata": {
      "byteLimit": 2048000,
      "rowLimit": 10000
     },
     "inputWidgets": {},
     "nuid": "f02c6b9c-3ca4-45f1-aa6d-bad7ade50599",
     "showTitle": false,
     "tableResultSettingsMap": {},
     "title": ""
    }
   },
   "outputs": [],
   "source": [
    "athlete_medallist_df = athletes_df.join(\n",
    "    medallists_df,\n",
    "    (athletes_df[\"code\"] == medallists_df[\"code_athlete\"]) &\n",
    "    (athletes_df[\"athlete_name\"] == medallists_df[\"name\"]) &\n",
    "    (athletes_df[\"country_long\"] == medallists_df[\"medallist_country_long\"]) ,\n",
    "    \"left\"\n",
    ")\n"
   ]
  },
  {
   "cell_type": "code",
   "execution_count": 0,
   "metadata": {
    "application/vnd.databricks.v1+cell": {
     "cellMetadata": {
      "byteLimit": 2048000,
      "rowLimit": 10000
     },
     "inputWidgets": {},
     "nuid": "47d4354e-7b6b-456e-91ad-f5d541545d3a",
     "showTitle": false,
     "tableResultSettingsMap": {},
     "title": ""
    }
   },
   "outputs": [],
   "source": [
    "athlete_medallist_df.filter(athlete_medallist_df.is_medallist==\"True\").count()"
   ]
  },
  {
   "cell_type": "code",
   "execution_count": 0,
   "metadata": {
    "application/vnd.databricks.v1+cell": {
     "cellMetadata": {
      "byteLimit": 2048000,
      "rowLimit": 10000
     },
     "inputWidgets": {},
     "nuid": "e8d833b5-a9bd-491e-b440-5482b2c83ce7",
     "showTitle": false,
     "tableResultSettingsMap": {},
     "title": ""
    }
   },
   "outputs": [],
   "source": [
    "athlete_medallist_df = (\n",
    "    athlete_medallist_df\n",
    "        .filter('is_medallist = \"True\"')\n",
    "        .select(\n",
    "            \"athlete_name\",\n",
    "            \"country_long\",\n",
    "            \"athlete_birth_date\",\n",
    "            \"athlete_discipline\",\n",
    "            \"medallist_discipline\",\n",
    "            col(\"events\").alias(\"athlete_event\"),\n",
    "            col(\"event\").alias(\"medallist_event\"),\n",
    "            \"medal_type\",\n",
    "            \"medal_code\",\n",
    "            \"coach\",\n",
    "            col(\"country_code\").alias(\"athlete_country_code\")\n",
    "        )\n",
    ")\n",
    "\n",
    "display(athlete_medallist_df)\n"
   ]
  },
  {
   "cell_type": "code",
   "execution_count": 0,
   "metadata": {
    "application/vnd.databricks.v1+cell": {
     "cellMetadata": {
      "byteLimit": 2048000,
      "rowLimit": 10000
     },
     "inputWidgets": {},
     "nuid": "cb446401-6d59-487d-88c0-bb1e126dd1e9",
     "showTitle": false,
     "tableResultSettingsMap": {},
     "title": ""
    }
   },
   "outputs": [],
   "source": [
    "# Split the 'coach' column into multiple entries using <br> or <p> as delimiters and explode into separate rows\n",
    "athlete_medallist_df = athlete_medallist_df.withColumn(\"coach\", explode(split(col(\"coach\"), \"<br>|<p>\")))\n",
    "\n",
    "# Trim any leading or trailing whitespace from each coach name\n",
    "athlete_medallist_df = athlete_medallist_df.withColumn(\"coach\", trim(col(\"coach\")))\n",
    "\n",
    "# Display the resulting DataFrame\n",
    "display(athlete_medallist_df)"
   ]
  },
  {
   "cell_type": "code",
   "execution_count": 0,
   "metadata": {
    "application/vnd.databricks.v1+cell": {
     "cellMetadata": {
      "byteLimit": 2048000,
      "rowLimit": 10000
     },
     "inputWidgets": {},
     "nuid": "0a6cb4e8-2057-47e0-b37b-52fd3bc09881",
     "showTitle": false,
     "tableResultSettingsMap": {},
     "title": ""
    }
   },
   "outputs": [],
   "source": [
    "# Create a new column 'coach_country_code' based on patterns found in the 'coach' column\n",
    "athlete_medallist_coach = athlete_medallist_df.withColumn(\n",
    "    \"coach_country_code\",\n",
    "    \n",
    "    # First condition: if a 3-letter country code is found in parentheses (e.g., \"(USA)\"), extract and use it\n",
    "    when(\n",
    "        regexp_extract(col(\"coach\"), r\"\\((\\w{3})\\)\", 1) != \"\",\n",
    "        regexp_extract(col(\"coach\"), r\"\\((\\w{3})\\)\", 1)\n",
    "    \n",
    "    # Second condition: if the word 'national' (case-insensitive) is present in the coach name,\n",
    "    # assume the coach shares the same country as the athlete\n",
    "    ).when(\n",
    "        col(\"coach\").rlike(\"(?i)national\"),\n",
    "        col(\"athlete_country_code\")\n",
    "    \n",
    "    # If neither condition is met, assign None\n",
    "    ).otherwise(lit(None))\n",
    ")\n",
    "\n",
    "# Display the resulting DataFrame with the new 'coach_country_code' column\n",
    "athlete_medallist_coach.display()"
   ]
  },
  {
   "cell_type": "code",
   "execution_count": 0,
   "metadata": {
    "application/vnd.databricks.v1+cell": {
     "cellMetadata": {
      "byteLimit": 2048000,
      "rowLimit": 10000
     },
     "inputWidgets": {},
     "nuid": "f1d5fea0-bca6-4db1-8f82-b0162edf5ab9",
     "showTitle": false,
     "tableResultSettingsMap": {},
     "title": ""
    }
   },
   "outputs": [],
   "source": [
    "# Add a new column 'coach_national_international' to classify the coach as National, International, or None\n",
    "athlete_medallist_coach_df = athlete_medallist_coach.withColumn(\n",
    "    \"coach_national_international\",\n",
    "    \n",
    "    # If the coach's country code matches the athlete's, label as 'National'\n",
    "    when(col(\"athlete_country_code\") == col(\"coach_country_code\"), \"National\")\n",
    "    \n",
    "    # If the coach's country code is missing, assign None\n",
    "    .when(col(\"coach_country_code\").isNull(), None)\n",
    "    \n",
    "    # Otherwise, label as 'International'\n",
    "    .otherwise(\"International\")\n",
    ")\n",
    "\n",
    "# Display the resulting DataFrame with the new classification\n",
    "athlete_medallist_coach_df.display()"
   ]
  },
  {
   "cell_type": "code",
   "execution_count": 0,
   "metadata": {
    "application/vnd.databricks.v1+cell": {
     "cellMetadata": {
      "byteLimit": 2048000,
      "rowLimit": 10000
     },
     "inputWidgets": {},
     "nuid": "a6db1c59-e25b-487d-ab1b-715d8af5994c",
     "showTitle": false,
     "tableResultSettingsMap": {},
     "title": ""
    }
   },
   "outputs": [],
   "source": []
  },
  {
   "cell_type": "markdown",
   "metadata": {
    "application/vnd.databricks.v1+cell": {
     "cellMetadata": {
      "byteLimit": 2048000,
      "rowLimit": 10000
     },
     "inputWidgets": {},
     "nuid": "a1226cbd-85bc-492b-adf4-73ae5b63fbb3",
     "showTitle": false,
     "tableResultSettingsMap": {},
     "title": ""
    }
   },
   "source": [
    "### Writing Processed DataFrames to Parquet Format with Overwrite Mode for Multiple DataSets"
   ]
  },
  {
   "cell_type": "code",
   "execution_count": 0,
   "metadata": {
    "application/vnd.databricks.v1+cell": {
     "cellMetadata": {
      "byteLimit": 2048000,
      "rowLimit": 10000
     },
     "inputWidgets": {},
     "nuid": "d5391bb2-6ce3-45d6-a4df-4577a7811e2f",
     "showTitle": false,
     "tableResultSettingsMap": {},
     "title": ""
    }
   },
   "outputs": [],
   "source": [
    "athletes_df.write \\\n",
    "    .format(\"parquet\") \\\n",
    "    .mode(\"overwrite\") \\\n",
    "    .option(\"overwriteSchema\", \"true\") \\\n",
    "    .save(f\"{processed_data_path}/athletes\")\n",
    "\n",
    "coaches_df.write \\\n",
    "    .format(\"parquet\") \\\n",
    "    .mode(\"overwrite\") \\\n",
    "    .save(f\"{processed_data_path}/coaches\")\n",
    "\n",
    "events_df.write \\\n",
    "    .format(\"parquet\") \\\n",
    "    .mode(\"overwrite\") \\\n",
    "    .save(f\"{processed_data_path}/events\")\n",
    "\n",
    "medallists_df.write \\\n",
    "    .format(\"parquet\") \\\n",
    "    .mode(\"overwrite\") \\\n",
    "    .save(f\"{processed_data_path}/medallists\")\n",
    "\n",
    "teams_df.write \\\n",
    "    .format(\"parquet\") \\\n",
    "    .mode(\"overwrite\") \\\n",
    "    .save(f\"{processed_data_path}/teams\")\n",
    "\n",
    "athlete_medallist_coach_df.write \\\n",
    "    .format(\"parquet\") \\\n",
    "    .mode(\"overwrite\") \\\n",
    "    .save(f\"{processed_data_path}/athlete_medallist_coach\")\n"
   ]
  }
 ],
 "metadata": {
  "application/vnd.databricks.v1+notebook": {
   "computePreferences": null,
   "dashboards": [],
   "environmentMetadata": {
    "base_environment": "",
    "environment_version": "2"
   },
   "inputWidgetPreferences": null,
   "language": "python",
   "notebookMetadata": {
    "pythonIndentUnit": 4
   },
   "notebookName": "paris olympics transformation",
   "widgets": {}
  },
  "language_info": {
   "name": "python"
  }
 },
 "nbformat": 4,
 "nbformat_minor": 0
}
